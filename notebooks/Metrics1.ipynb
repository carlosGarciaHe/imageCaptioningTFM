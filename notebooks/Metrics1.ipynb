{
 "cells": [
  {
   "cell_type": "code",
   "execution_count": 1,
   "metadata": {},
   "outputs": [],
   "source": [
    "import pandas as pd\n",
    "import json\n",
    "import requests"
   ]
  },
  {
   "cell_type": "code",
   "execution_count": 2,
   "metadata": {},
   "outputs": [],
   "source": [
    "PATH = \"data/validation.xlsx\"\n",
    "annotations = pd.read_excel(PATH, names=[\"id_image\",\"caption\"])"
   ]
  },
  {
   "cell_type": "code",
   "execution_count": 3,
   "metadata": {},
   "outputs": [],
   "source": [
    "PATH = \"./results/val_M038_E.csv\"\n",
    "results = pd.read_csv(PATH)\n",
    "results = results.drop_duplicates()"
   ]
  },
  {
   "cell_type": "code",
   "execution_count": 4,
   "metadata": {},
   "outputs": [],
   "source": [
    "json_annotations = {\n",
    "    'info': {\n",
    "        'description':''\n",
    "    },\n",
    "    'images': [],\n",
    "    'licenses': [],\n",
    "    'type': 'captions',\n",
    "    'annotations': []\n",
    "}"
   ]
  },
  {
   "cell_type": "code",
   "execution_count": 5,
   "metadata": {},
   "outputs": [],
   "source": [
    "def dicts_equal(d1,d2):\n",
    "    \"\"\" return True if all keys and values are the same \"\"\"\n",
    "    return all(k in d2 and d1[k] == d2[k]\n",
    "               for k in d1) \\\n",
    "        and all(k in d1 and d1[k] == d2[k]\n",
    "               for k in d2)"
   ]
  },
  {
   "cell_type": "code",
   "execution_count": 6,
   "metadata": {},
   "outputs": [],
   "source": [
    "c=0\n",
    "for annotation in annotations.iterrows():\n",
    "    ann = {\n",
    "        'image_id': annotation[1]['id_image'],\n",
    "        'id': c,\n",
    "        'caption': annotation[1]['caption']\n",
    "    }\n",
    "    img = {\n",
    "        'license':3,\n",
    "        'url': '',\n",
    "        'file_name': '',\n",
    "        'id': annotation[1]['id_image'],\n",
    "        'width': 640,\n",
    "        'date_captured': '',\n",
    "        'height': 360,\n",
    "    }\n",
    "    for i in json_annotations['images']:\n",
    "        if not dicts_equal(i,img):\n",
    "            json_annotations['images'].append(img)\n",
    "            break\n",
    "    if len(json_annotations['images'])==0:\n",
    "        json_annotations['images'].append(img)\n",
    "    c+=1\n",
    "    json_annotations['annotations'].append(ann)"
   ]
  },
  {
   "cell_type": "code",
   "execution_count": 7,
   "metadata": {},
   "outputs": [],
   "source": [
    "json_results = []"
   ]
  },
  {
   "cell_type": "code",
   "execution_count": 8,
   "metadata": {},
   "outputs": [],
   "source": [
    "for result in results.iterrows():\n",
    "    res = {\n",
    "        'image_id': result[1]['id_image'],\n",
    "        'caption': result[1]['caption']\n",
    "    }\n",
    "    json_results.append(res)"
   ]
  },
  {
   "cell_type": "code",
   "execution_count": 9,
   "metadata": {},
   "outputs": [],
   "source": [
    "with open(\"./coco-caption/annotations/captions_val2015.json\",'w') as f:\n",
    "    json.dump(json_annotations, f)"
   ]
  },
  {
   "cell_type": "code",
   "execution_count": 10,
   "metadata": {},
   "outputs": [],
   "source": [
    "with open(\"./coco-caption/results/captions_val2015_fakecap_results.json\",'w') as f:\n",
    "    json.dump(json_results, f)"
   ]
  },
  {
   "cell_type": "markdown",
   "metadata": {},
   "source": [
    "## Post-traducción"
   ]
  },
  {
   "cell_type": "code",
   "execution_count": 4,
   "metadata": {},
   "outputs": [],
   "source": [
    "malos_acentos = ['Ã¡', 'Ã©', 'Ã*', 'Ã³', 'Ãº', 'Ã', 'Ã‰', 'Ã', 'Ã“', 'Ãš', 'Ã±', 'Ã‘', 'Âº', 'Âª', 'Â¿','Á±','Á­','Á�','贸','単']\n",
    "buenos_acentos = ['á', 'é', 'í', 'ó', 'ú', 'Á', 'É', 'Í', 'Ó', 'Ú', 'ñ', 'Ñ', 'º', 'ª', '¿','ñ','í','Á','ó','ñ']"
   ]
  },
  {
   "cell_type": "code",
   "execution_count": null,
   "metadata": {
    "scrolled": true
   },
   "outputs": [
    {
     "name": "stdout",
     "output_type": "stream",
     "text": [
      "1\n",
      "2\n",
      "3\n",
      "4\n",
      "5\n",
      "6\n",
      "7\n",
      "8\n",
      "9\n",
      "10\n",
      "11\n",
      "12\n",
      "13\n",
      "14\n",
      "15\n",
      "16\n",
      "17\n",
      "18\n",
      "19\n",
      "20\n",
      "21\n",
      "22\n",
      "23\n",
      "24\n",
      "25\n",
      "26\n",
      "27\n",
      "28\n",
      "29\n",
      "30\n",
      "31\n",
      "32\n",
      "33\n",
      "34\n",
      "35\n",
      "36\n",
      "37\n",
      "38\n",
      "39\n",
      "40\n",
      "41\n",
      "42\n",
      "43\n",
      "44\n",
      "45\n",
      "46\n",
      "47\n",
      "48\n",
      "49\n",
      "50\n",
      "51\n",
      "52\n",
      "53\n",
      "54\n",
      "55\n",
      "56\n",
      "57\n",
      "58\n",
      "59\n",
      "60\n",
      "61\n",
      "62\n",
      "63\n",
      "64\n",
      "65\n",
      "66\n",
      "67\n",
      "68\n",
      "69\n",
      "70\n",
      "71\n",
      "72\n",
      "73\n",
      "74\n",
      "75\n",
      "76\n",
      "77\n",
      "78\n",
      "79\n",
      "80\n",
      "81\n",
      "82\n",
      "83\n",
      "84\n",
      "85\n",
      "86\n",
      "87\n",
      "88\n",
      "89\n",
      "90\n",
      "91\n",
      "92\n",
      "93\n",
      "94\n",
      "95\n",
      "96\n",
      "97\n",
      "98\n",
      "99\n",
      "100\n",
      "101\n",
      "102\n",
      "103\n",
      "104\n",
      "105\n",
      "106\n",
      "107\n",
      "108\n",
      "109\n",
      "110\n",
      "111\n",
      "112\n",
      "113\n",
      "114\n",
      "115\n",
      "116\n",
      "117\n",
      "118\n",
      "119\n"
     ]
    }
   ],
   "source": [
    "c=0\n",
    "for index,result in results.iterrows():\n",
    "    caption = result['caption']\n",
    "    data = [\n",
    "        ('auth_key', '3043e601-5322-a0bf-45b0-12d05f1b1073'),\n",
    "        ('text', '%s'%caption),\n",
    "        ('source_lang', 'EN'),\n",
    "        ('target_lang', 'ES'),\n",
    "    ]\n",
    "    response = requests.post('https://api.deepl.com/v2/translate?split_sentences=0', data=data)\n",
    "    translation = json.loads(response.text)['translations'][0]['text']\n",
    "    c+=1\n",
    "    print(c)\n",
    "    results.loc[index,'caption'] = translation"
   ]
  },
  {
   "cell_type": "code",
   "execution_count": 22,
   "metadata": {},
   "outputs": [],
   "source": [
    "PATH = \"./results/val_M032_E.csv\"\n",
    "results = results.to_csv(PATH,index=False, encoding = 'utf-8')"
   ]
  },
  {
   "cell_type": "code",
   "execution_count": null,
   "metadata": {},
   "outputs": [],
   "source": []
  },
  {
   "cell_type": "code",
   "execution_count": null,
   "metadata": {},
   "outputs": [],
   "source": []
  }
 ],
 "metadata": {
  "kernelspec": {
   "display_name": "Python 2",
   "language": "python",
   "name": "python2"
  },
  "language_info": {
   "codemirror_mode": {
    "name": "ipython",
    "version": 2
   },
   "file_extension": ".py",
   "mimetype": "text/x-python",
   "name": "python",
   "nbconvert_exporter": "python",
   "pygments_lexer": "ipython2",
   "version": "2.7.18"
  }
 },
 "nbformat": 4,
 "nbformat_minor": 4
}
